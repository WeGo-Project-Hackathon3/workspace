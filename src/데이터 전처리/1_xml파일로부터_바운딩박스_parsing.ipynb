{
 "cells": [
  {
   "cell_type": "code",
   "execution_count": 1,
   "id": "95937d47",
   "metadata": {},
   "outputs": [],
   "source": [
    "import xml.etree.ElementTree as ET\n",
    "import os\n",
    "import glob\n",
    "import shutil\n",
    "\n",
    "import pandas as pd\n",
    "import numpy as np\n",
    "import matplotlib.pyplot as plt\n",
    "\n",
    "import copy\n",
    "import cv2\n",
    "from PIL import Image, ImageDraw"
   ]
  },
  {
   "cell_type": "code",
   "execution_count": 2,
   "id": "d7c24d9d",
   "metadata": {},
   "outputs": [],
   "source": [
    "# 원본이미지 폴더\n",
    "basepath = '/home/ssac26/Downloads/wego/ai_test2'"
   ]
  },
  {
   "cell_type": "code",
   "execution_count": 3,
   "id": "327da1f0",
   "metadata": {},
   "outputs": [
    {
     "data": {
      "text/plain": [
       "'/home/ssac26/Downloads/wego'"
      ]
     },
     "execution_count": 3,
     "metadata": {},
     "output_type": "execute_result"
    }
   ],
   "source": [
    "os.path.dirname(basepath)"
   ]
  },
  {
   "cell_type": "code",
   "execution_count": 4,
   "id": "fde13c21",
   "metadata": {
    "scrolled": true
   },
   "outputs": [],
   "source": [
    "# txt변환후 이미지와 매칭되면 이동시킬 폴더\n",
    "copy_path = os.path.join(os.path.dirname(basepath), os.path.basename(basepath)+'_copy')"
   ]
  },
  {
   "cell_type": "code",
   "execution_count": 5,
   "id": "075507e0",
   "metadata": {},
   "outputs": [],
   "source": [
    "copy_path\n",
    "os.mkdir(copy_path)"
   ]
  },
  {
   "cell_type": "code",
   "execution_count": 6,
   "id": "5da9a797",
   "metadata": {},
   "outputs": [
    {
     "data": {
      "text/plain": [
       "['Bbox_0892',\n",
       " 'Bbox_0884',\n",
       " 'Bbox_0863',\n",
       " 'Bbox_0882',\n",
       " 'Bbox_0864',\n",
       " 'Bbox_0883',\n",
       " 'Bbox_0887',\n",
       " 'Bbox_0876',\n",
       " 'Bbox_0869',\n",
       " 'Bbox_0865',\n",
       " 'Bbox_0886',\n",
       " 'Bbox_0875',\n",
       " 'Bbox_0870',\n",
       " 'Bbox_0873',\n",
       " 'Bbox_0895',\n",
       " 'Bbox_0879',\n",
       " 'Bbox_0893',\n",
       " 'Bbox_0877',\n",
       " 'Bbox_0894',\n",
       " 'Bbox_0862',\n",
       " 'Bbox_0867',\n",
       " 'Bbox_0885',\n",
       " 'Bbox_0878',\n",
       " 'Bbox_0896',\n",
       " 'Bbox_0891',\n",
       " 'Bbox_0890',\n",
       " 'Bbox_0889',\n",
       " 'Bbox_0888',\n",
       " 'Bbox_0871',\n",
       " 'Bbox_0899',\n",
       " 'Bbox_0874',\n",
       " 'Bbox_0900',\n",
       " 'Bbox_0897',\n",
       " 'Bbox_0866',\n",
       " 'Bbox_0868',\n",
       " 'Bbox_0880',\n",
       " 'Bbox_0881',\n",
       " 'Bbox_0872',\n",
       " 'Bbox_0861',\n",
       " 'Bbox_0898']"
      ]
     },
     "execution_count": 6,
     "metadata": {},
     "output_type": "execute_result"
    }
   ],
   "source": [
    "bfolders = os.listdir(basepath)\n",
    "bfolders"
   ]
  },
  {
   "cell_type": "code",
   "execution_count": 7,
   "id": "f4c1b77c",
   "metadata": {},
   "outputs": [],
   "source": [
    "# custom annotation format to yolov4\n",
    "def convert(box, size):\n",
    "    dw = 1./(size[0]) \n",
    "    dh = 1./(size[1])\n",
    "    x = (box[0] + box[2])/2.0\n",
    "    y = (box[1] + box[3])/2.0\n",
    "    w = box[2] - box[0]\n",
    "    h = box[3] - box[1]\n",
    "    x = x*dw\n",
    "    w = w*dw\n",
    "    y = y*dh\n",
    "    h = h*dh\n",
    "    return (x,y,w,h)\n",
    "    "
   ]
  },
  {
   "cell_type": "code",
   "execution_count": 8,
   "id": "6539dad4",
   "metadata": {},
   "outputs": [],
   "source": [
    "def getimgdir(dir_path):\n",
    "    image_list = []\n",
    "    for i in glob.glob(dir_path + '/*.jpg'):\n",
    "        image_list.append(i)\n",
    "    \n",
    "    return image_list"
   ]
  },
  {
   "cell_type": "code",
   "execution_count": 9,
   "id": "63d0aa9a",
   "metadata": {},
   "outputs": [],
   "source": [
    "def gettextdir(dir_path):\n",
    "    label_list = []\n",
    "    for i in glob.glob(dir_path + '/*.txt'):\n",
    "        label_list.append(i)\n",
    "    \n",
    "    return label_list"
   ]
  },
  {
   "cell_type": "code",
   "execution_count": 10,
   "id": "9cd005a6",
   "metadata": {},
   "outputs": [
    {
     "data": {
      "text/plain": [
       "'/home/ssac26/Downloads/wego/ai_test2_copy'"
      ]
     },
     "execution_count": 10,
     "metadata": {},
     "output_type": "execute_result"
    }
   ],
   "source": [
    "copy_path"
   ]
  },
  {
   "cell_type": "code",
   "execution_count": 11,
   "id": "530401eb",
   "metadata": {},
   "outputs": [],
   "source": [
    "# parsing from xml, to txt\n",
    "def parsing(path):\n",
    "    new_folder = os.path.join(copy_path, os.path.basename(path))\n",
    "    os.makedirs(new_folder) # make copy folder loc\n",
    "    #print(new_folder)\n",
    "    filelist = os.listdir(path)\n",
    "    for file in filelist:\n",
    "\n",
    "        if file.endswith('xml'):\n",
    "            #print(file)\n",
    "            xmlpath = os.path.join(path, file)\n",
    "            shutil.copy(xmlpath, new_folder)\n",
    "            doc = ET.parse(xmlpath)\n",
    "            root = doc.getroot()\n",
    "            for i in root.iter('image'):\n",
    "\n",
    "\n",
    "               # cou = 0\n",
    "                for j in i.iter('box'):\n",
    "\n",
    "\n",
    "                    if j.attrib['label']=='person':\n",
    "\n",
    "                        picname = i.attrib['name'].split('.')[0]\n",
    "\n",
    "\n",
    "\n",
    "                        bbox_x1 = float(j.attrib['xtl'])\n",
    "                        bbox_y1 = float(j.attrib['ytl'])\n",
    "                        bbox_x2 = float(j.attrib['xbr'])\n",
    "                        bbox_y2 = float(j.attrib['ybr'])\n",
    "                        #print(convert([bbox_x1, bbox_y1, bbox_x2, bbox_y2],(1920,1080)))\n",
    "                        xx, yy, xx2, yy2 = convert([bbox_x1, bbox_y1, bbox_x2, bbox_y2],(1920,1080))\n",
    "                        #print(i.attrib['name'])\n",
    "                        #print(i)\n",
    "                        #print(j.attrib)\n",
    "                        #print(xx, yy, xx2, yy2)\n",
    "                        annotxt = os.path.join(path, picname) + '.txt'\n",
    "                        #print(annotxt)\n",
    "                        #print('osexist:',os.path.isfile(annotxt))\n",
    "                        folder = os.listdir(path)\n",
    "\n",
    "                        if os.path.basename(annotxt) in folder:\n",
    "\n",
    "                            out_file = open(annotxt, 'a' ,encoding='UTF8')\n",
    "                            #print()\n",
    "                            out_file.write(f'{0} {round(xx,6)} {round(yy,6)} {round(xx2,6)} {round(yy2,6)}\\n')\n",
    "                            #print('addmode')\n",
    "                        else:\n",
    "                            out_file = open(os.path.join(path, picname) + '.txt', 'w' ,encoding='UTF8')\n",
    "\n",
    "                            out_file.write(f'{0} {round(xx,6)} {round(yy,6)} {round(xx2,6)} {round(yy2,6)}\\n')\n",
    "                            #print('maketxt')\n",
    "                      #  cou += 1\n",
    "                   # print(cou)\n",
    "\n",
    "\n",
    "\n",
    "            \n",
    "            \n",
    "            \n",
    "            \n",
    "\n",
    "        \n",
    "    "
   ]
  },
  {
   "cell_type": "code",
   "execution_count": 12,
   "id": "b715e356",
   "metadata": {},
   "outputs": [
    {
     "data": {
      "text/plain": [
       "'/home/ssac26/Downloads/wego/ai_test2_copy'"
      ]
     },
     "execution_count": 12,
     "metadata": {},
     "output_type": "execute_result"
    }
   ],
   "source": [
    "copy_path"
   ]
  },
  {
   "cell_type": "code",
   "execution_count": 13,
   "id": "96adf222",
   "metadata": {},
   "outputs": [],
   "source": [
    "def file_filtering(path):\n",
    "    img_1 = getimgdir(path)\n",
    "    text_1 = gettextdir(path)\n",
    "    addlist = []\n",
    "    new_folder = os.path.join(copy_path, os.path.basename(path))\n",
    "    # os.makedirs(new_folder)\n",
    "    \n",
    "   \n",
    "    \n",
    "    \n",
    "    for i in img_1:\n",
    "        full_fname = os.path.basename(i)\n",
    "        split_fname = os.path.splitext(full_fname)\n",
    "        #print(split_fname[0])\n",
    "        #print(i)\n",
    "        for j in text_1:\n",
    "            if split_fname[0] == os.path.splitext(os.path.basename(j))[0]:   # 일치한 파일 827\n",
    "                \n",
    "                addlist.append(split_fname[0])\n",
    "                #print(i)\n",
    "                #print(j)\n",
    "                shutil.copy(i, new_folder)\n",
    "                shutil.move(j, new_folder)\n",
    "                \n",
    "    return len(addlist)\n",
    "    \n",
    "    \n",
    "    "
   ]
  },
  {
   "cell_type": "code",
   "execution_count": 14,
   "id": "2b37ac12",
   "metadata": {},
   "outputs": [],
   "source": [
    "#폴더의 모든파일을 읽는 함수\n",
    "def read_all_file(path):\n",
    "    file_list = []\n",
    "    output = os.listdir(path)\n",
    "    for i in output:\n",
    "        file_list.append(path+'/'+i)\n",
    "        \n",
    "    return file_list\n",
    "        \n",
    "        "
   ]
  },
  {
   "cell_type": "code",
   "execution_count": 15,
   "id": "900fd80a",
   "metadata": {
    "scrolled": false
   },
   "outputs": [],
   "source": [
    "bbox_folders = os.listdir(basepath)"
   ]
  },
  {
   "cell_type": "code",
   "execution_count": 16,
   "id": "96e04cc6",
   "metadata": {},
   "outputs": [
    {
     "name": "stdout",
     "output_type": "stream",
     "text": [
      "/home/ssac26/Downloads/wego/ai_test2/Bbox_0892\n",
      "txt counts: 177\n",
      "jpg counts: 177\n",
      "/home/ssac26/Downloads/wego/ai_test2/Bbox_0884\n",
      "txt counts: 125\n",
      "jpg counts: 125\n",
      "/home/ssac26/Downloads/wego/ai_test2/Bbox_0863\n",
      "txt counts: 138\n",
      "jpg counts: 138\n",
      "/home/ssac26/Downloads/wego/ai_test2/Bbox_0882\n",
      "txt counts: 139\n",
      "jpg counts: 139\n",
      "/home/ssac26/Downloads/wego/ai_test2/Bbox_0864\n",
      "txt counts: 143\n",
      "jpg counts: 143\n",
      "/home/ssac26/Downloads/wego/ai_test2/Bbox_0883\n",
      "txt counts: 143\n",
      "jpg counts: 143\n",
      "/home/ssac26/Downloads/wego/ai_test2/Bbox_0887\n",
      "txt counts: 248\n",
      "jpg counts: 248\n",
      "/home/ssac26/Downloads/wego/ai_test2/Bbox_0876\n",
      "txt counts: 133\n",
      "jpg counts: 133\n",
      "/home/ssac26/Downloads/wego/ai_test2/Bbox_0869\n",
      "txt counts: 144\n",
      "jpg counts: 144\n",
      "/home/ssac26/Downloads/wego/ai_test2/Bbox_0865\n",
      "txt counts: 144\n",
      "jpg counts: 144\n",
      "/home/ssac26/Downloads/wego/ai_test2/Bbox_0886\n",
      "txt counts: 119\n",
      "jpg counts: 119\n",
      "/home/ssac26/Downloads/wego/ai_test2/Bbox_0875\n",
      "txt counts: 139\n",
      "jpg counts: 139\n",
      "/home/ssac26/Downloads/wego/ai_test2/Bbox_0870\n",
      "txt counts: 131\n",
      "jpg counts: 131\n",
      "/home/ssac26/Downloads/wego/ai_test2/Bbox_0873\n",
      "txt counts: 126\n",
      "jpg counts: 126\n",
      "/home/ssac26/Downloads/wego/ai_test2/Bbox_0895\n",
      "txt counts: 156\n",
      "jpg counts: 156\n",
      "/home/ssac26/Downloads/wego/ai_test2/Bbox_0879\n",
      "txt counts: 145\n",
      "jpg counts: 145\n",
      "/home/ssac26/Downloads/wego/ai_test2/Bbox_0893\n",
      "txt counts: 155\n",
      "jpg counts: 155\n",
      "/home/ssac26/Downloads/wego/ai_test2/Bbox_0877\n",
      "txt counts: 124\n",
      "jpg counts: 124\n",
      "/home/ssac26/Downloads/wego/ai_test2/Bbox_0894\n",
      "txt counts: 178\n",
      "jpg counts: 178\n",
      "/home/ssac26/Downloads/wego/ai_test2/Bbox_0862\n",
      "txt counts: 127\n",
      "jpg counts: 127\n",
      "/home/ssac26/Downloads/wego/ai_test2/Bbox_0867\n",
      "txt counts: 139\n",
      "jpg counts: 139\n",
      "/home/ssac26/Downloads/wego/ai_test2/Bbox_0885\n",
      "txt counts: 140\n",
      "jpg counts: 140\n",
      "/home/ssac26/Downloads/wego/ai_test2/Bbox_0878\n",
      "txt counts: 130\n",
      "jpg counts: 130\n",
      "/home/ssac26/Downloads/wego/ai_test2/Bbox_0896\n",
      "txt counts: 161\n",
      "jpg counts: 161\n",
      "/home/ssac26/Downloads/wego/ai_test2/Bbox_0891\n",
      "txt counts: 178\n",
      "jpg counts: 178\n",
      "/home/ssac26/Downloads/wego/ai_test2/Bbox_0890\n",
      "txt counts: 295\n",
      "jpg counts: 295\n",
      "/home/ssac26/Downloads/wego/ai_test2/Bbox_0889\n",
      "txt counts: 274\n",
      "jpg counts: 274\n",
      "/home/ssac26/Downloads/wego/ai_test2/Bbox_0888\n",
      "txt counts: 238\n",
      "jpg counts: 238\n",
      "/home/ssac26/Downloads/wego/ai_test2/Bbox_0871\n",
      "txt counts: 157\n",
      "jpg counts: 157\n",
      "/home/ssac26/Downloads/wego/ai_test2/Bbox_0899\n",
      "txt counts: 149\n",
      "jpg counts: 149\n",
      "/home/ssac26/Downloads/wego/ai_test2/Bbox_0874\n",
      "txt counts: 156\n",
      "jpg counts: 156\n",
      "/home/ssac26/Downloads/wego/ai_test2/Bbox_0900\n",
      "txt counts: 150\n",
      "jpg counts: 150\n",
      "/home/ssac26/Downloads/wego/ai_test2/Bbox_0897\n",
      "txt counts: 155\n",
      "jpg counts: 155\n",
      "/home/ssac26/Downloads/wego/ai_test2/Bbox_0866\n",
      "txt counts: 123\n",
      "jpg counts: 123\n",
      "/home/ssac26/Downloads/wego/ai_test2/Bbox_0868\n",
      "txt counts: 146\n",
      "jpg counts: 146\n",
      "/home/ssac26/Downloads/wego/ai_test2/Bbox_0880\n",
      "txt counts: 125\n",
      "jpg counts: 125\n",
      "/home/ssac26/Downloads/wego/ai_test2/Bbox_0881\n",
      "txt counts: 153\n",
      "jpg counts: 153\n",
      "/home/ssac26/Downloads/wego/ai_test2/Bbox_0872\n",
      "txt counts: 159\n",
      "jpg counts: 159\n",
      "/home/ssac26/Downloads/wego/ai_test2/Bbox_0861\n",
      "txt counts: 140\n",
      "jpg counts: 140\n",
      "/home/ssac26/Downloads/wego/ai_test2/Bbox_0898\n",
      "txt counts: 165\n",
      "jpg counts: 165\n"
     ]
    }
   ],
   "source": [
    "for bbox_folder in bbox_folders:\n",
    "    workfolder = os.path.join(basepath, bbox_folder)\n",
    "    \n",
    "    print(workfolder)\n",
    "    parsing(workfolder)\n",
    "    file_filtering(workfolder)\n",
    "    workfolder_copy = read_all_file(os.path.join(copy_path, os.path.basename(workfolder)))\n",
    "    txtcount = 0\n",
    "    jpgcount = 0\n",
    "    for i in workfolder_copy:\n",
    "        if 'txt' in i:\n",
    "            txtcount +=1\n",
    "        if 'jpg' in i:\n",
    "            jpgcount += 1\n",
    "    print('txt counts:',txtcount)\n",
    "    print('jpg counts:',jpgcount)\n",
    "    \n",
    "    "
   ]
  },
  {
   "cell_type": "code",
   "execution_count": null,
   "id": "c762d7c8",
   "metadata": {},
   "outputs": [],
   "source": []
  },
  {
   "cell_type": "code",
   "execution_count": null,
   "id": "43946267",
   "metadata": {},
   "outputs": [],
   "source": []
  }
 ],
 "metadata": {
  "kernelspec": {
   "display_name": "hackerton",
   "language": "python",
   "name": "hackerton"
  },
  "language_info": {
   "codemirror_mode": {
    "name": "ipython",
    "version": 3
   },
   "file_extension": ".py",
   "mimetype": "text/x-python",
   "name": "python",
   "nbconvert_exporter": "python",
   "pygments_lexer": "ipython3",
   "version": "3.7.10"
  }
 },
 "nbformat": 4,
 "nbformat_minor": 5
}
